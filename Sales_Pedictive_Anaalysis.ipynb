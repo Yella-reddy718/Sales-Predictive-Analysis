{
  "nbformat": 4,
  "nbformat_minor": 0,
  "metadata": {
    "colab": {
      "name": "Sales Pedictive Anaalysis.ipynb",
      "provenance": [],
      "collapsed_sections": []
    },
    "kernelspec": {
      "name": "python3",
      "display_name": "Python 3"
    }
  },
  "cells": [
    {
      "cell_type": "code",
      "metadata": {
        "id": "xUla1IVdLmo-"
      },
      "source": [
        "#Import require Libraries\n",
        "import pandas as pd\n",
        "import matplotlib.pyplot as plt\n",
        "from sklearn.model_selection import train_test_split\n",
        "from sklearn.linear_model import LinearRegression\n",
        "from sklearn import metrics\n",
        "import numpy as np"
      ],
      "execution_count": null,
      "outputs": []
    },
    {
      "cell_type": "code",
      "metadata": {
        "id": "L9H63Z5GLpKt",
        "colab": {
          "base_uri": "https://localhost:8080/"
        },
        "outputId": "a987ec9d-edb2-4dea-b801-e6fdf2d54c4d"
      },
      "source": [
        "Adata = pd.read_csv('Advertising.csv')\n",
        "Adata.shape"
      ],
      "execution_count": null,
      "outputs": [
        {
          "output_type": "execute_result",
          "data": {
            "text/plain": [
              "(200, 5)"
            ]
          },
          "metadata": {
            "tags": []
          },
          "execution_count": 8
        }
      ]
    },
    {
      "cell_type": "code",
      "metadata": {
        "colab": {
          "base_uri": "https://localhost:8080/",
          "height": 402
        },
        "id": "ARqi8V1stCpX",
        "outputId": "7162f4db-156c-4fe7-9f93-9da8f224385c"
      },
      "source": [
        "Adata"
      ],
      "execution_count": null,
      "outputs": [
        {
          "output_type": "execute_result",
          "data": {
            "text/html": [
              "<div>\n",
              "<style scoped>\n",
              "    .dataframe tbody tr th:only-of-type {\n",
              "        vertical-align: middle;\n",
              "    }\n",
              "\n",
              "    .dataframe tbody tr th {\n",
              "        vertical-align: top;\n",
              "    }\n",
              "\n",
              "    .dataframe thead th {\n",
              "        text-align: right;\n",
              "    }\n",
              "</style>\n",
              "<table border=\"1\" class=\"dataframe\">\n",
              "  <thead>\n",
              "    <tr style=\"text-align: right;\">\n",
              "      <th></th>\n",
              "      <th>Unnamed: 0</th>\n",
              "      <th>TV</th>\n",
              "      <th>radio</th>\n",
              "      <th>newspaper</th>\n",
              "      <th>sales</th>\n",
              "    </tr>\n",
              "  </thead>\n",
              "  <tbody>\n",
              "    <tr>\n",
              "      <th>0</th>\n",
              "      <td>1</td>\n",
              "      <td>230.1</td>\n",
              "      <td>37.8</td>\n",
              "      <td>69.2</td>\n",
              "      <td>22.1</td>\n",
              "    </tr>\n",
              "    <tr>\n",
              "      <th>1</th>\n",
              "      <td>2</td>\n",
              "      <td>44.5</td>\n",
              "      <td>39.3</td>\n",
              "      <td>45.1</td>\n",
              "      <td>10.4</td>\n",
              "    </tr>\n",
              "    <tr>\n",
              "      <th>2</th>\n",
              "      <td>3</td>\n",
              "      <td>17.2</td>\n",
              "      <td>45.9</td>\n",
              "      <td>69.3</td>\n",
              "      <td>9.3</td>\n",
              "    </tr>\n",
              "    <tr>\n",
              "      <th>3</th>\n",
              "      <td>4</td>\n",
              "      <td>151.5</td>\n",
              "      <td>41.3</td>\n",
              "      <td>58.5</td>\n",
              "      <td>18.5</td>\n",
              "    </tr>\n",
              "    <tr>\n",
              "      <th>4</th>\n",
              "      <td>5</td>\n",
              "      <td>180.8</td>\n",
              "      <td>10.8</td>\n",
              "      <td>58.4</td>\n",
              "      <td>12.9</td>\n",
              "    </tr>\n",
              "    <tr>\n",
              "      <th>...</th>\n",
              "      <td>...</td>\n",
              "      <td>...</td>\n",
              "      <td>...</td>\n",
              "      <td>...</td>\n",
              "      <td>...</td>\n",
              "    </tr>\n",
              "    <tr>\n",
              "      <th>195</th>\n",
              "      <td>196</td>\n",
              "      <td>38.2</td>\n",
              "      <td>3.7</td>\n",
              "      <td>13.8</td>\n",
              "      <td>7.6</td>\n",
              "    </tr>\n",
              "    <tr>\n",
              "      <th>196</th>\n",
              "      <td>197</td>\n",
              "      <td>94.2</td>\n",
              "      <td>4.9</td>\n",
              "      <td>8.1</td>\n",
              "      <td>9.7</td>\n",
              "    </tr>\n",
              "    <tr>\n",
              "      <th>197</th>\n",
              "      <td>198</td>\n",
              "      <td>177.0</td>\n",
              "      <td>9.3</td>\n",
              "      <td>6.4</td>\n",
              "      <td>12.8</td>\n",
              "    </tr>\n",
              "    <tr>\n",
              "      <th>198</th>\n",
              "      <td>199</td>\n",
              "      <td>283.6</td>\n",
              "      <td>42.0</td>\n",
              "      <td>66.2</td>\n",
              "      <td>25.5</td>\n",
              "    </tr>\n",
              "    <tr>\n",
              "      <th>199</th>\n",
              "      <td>200</td>\n",
              "      <td>232.1</td>\n",
              "      <td>8.6</td>\n",
              "      <td>8.7</td>\n",
              "      <td>13.4</td>\n",
              "    </tr>\n",
              "  </tbody>\n",
              "</table>\n",
              "<p>200 rows × 5 columns</p>\n",
              "</div>"
            ],
            "text/plain": [
              "     Unnamed: 0     TV  radio  newspaper  sales\n",
              "0             1  230.1   37.8       69.2   22.1\n",
              "1             2   44.5   39.3       45.1   10.4\n",
              "2             3   17.2   45.9       69.3    9.3\n",
              "3             4  151.5   41.3       58.5   18.5\n",
              "4             5  180.8   10.8       58.4   12.9\n",
              "..          ...    ...    ...        ...    ...\n",
              "195         196   38.2    3.7       13.8    7.6\n",
              "196         197   94.2    4.9        8.1    9.7\n",
              "197         198  177.0    9.3        6.4   12.8\n",
              "198         199  283.6   42.0       66.2   25.5\n",
              "199         200  232.1    8.6        8.7   13.4\n",
              "\n",
              "[200 rows x 5 columns]"
            ]
          },
          "metadata": {
            "tags": []
          },
          "execution_count": 9
        }
      ]
    },
    {
      "cell_type": "code",
      "metadata": {
        "id": "cI3517QcLuNs",
        "colab": {
          "base_uri": "https://localhost:8080/",
          "height": 402
        },
        "outputId": "450155a4-5c0b-47fe-de8b-eabc6ea7434a"
      },
      "source": [
        "Adata.drop(labels=['Unnamed: 0'],axis=1,inplace=True)\n",
        "Adata"
      ],
      "execution_count": null,
      "outputs": [
        {
          "output_type": "execute_result",
          "data": {
            "text/html": [
              "<div>\n",
              "<style scoped>\n",
              "    .dataframe tbody tr th:only-of-type {\n",
              "        vertical-align: middle;\n",
              "    }\n",
              "\n",
              "    .dataframe tbody tr th {\n",
              "        vertical-align: top;\n",
              "    }\n",
              "\n",
              "    .dataframe thead th {\n",
              "        text-align: right;\n",
              "    }\n",
              "</style>\n",
              "<table border=\"1\" class=\"dataframe\">\n",
              "  <thead>\n",
              "    <tr style=\"text-align: right;\">\n",
              "      <th></th>\n",
              "      <th>TV</th>\n",
              "      <th>radio</th>\n",
              "      <th>newspaper</th>\n",
              "      <th>sales</th>\n",
              "    </tr>\n",
              "  </thead>\n",
              "  <tbody>\n",
              "    <tr>\n",
              "      <th>0</th>\n",
              "      <td>230.1</td>\n",
              "      <td>37.8</td>\n",
              "      <td>69.2</td>\n",
              "      <td>22.1</td>\n",
              "    </tr>\n",
              "    <tr>\n",
              "      <th>1</th>\n",
              "      <td>44.5</td>\n",
              "      <td>39.3</td>\n",
              "      <td>45.1</td>\n",
              "      <td>10.4</td>\n",
              "    </tr>\n",
              "    <tr>\n",
              "      <th>2</th>\n",
              "      <td>17.2</td>\n",
              "      <td>45.9</td>\n",
              "      <td>69.3</td>\n",
              "      <td>9.3</td>\n",
              "    </tr>\n",
              "    <tr>\n",
              "      <th>3</th>\n",
              "      <td>151.5</td>\n",
              "      <td>41.3</td>\n",
              "      <td>58.5</td>\n",
              "      <td>18.5</td>\n",
              "    </tr>\n",
              "    <tr>\n",
              "      <th>4</th>\n",
              "      <td>180.8</td>\n",
              "      <td>10.8</td>\n",
              "      <td>58.4</td>\n",
              "      <td>12.9</td>\n",
              "    </tr>\n",
              "    <tr>\n",
              "      <th>...</th>\n",
              "      <td>...</td>\n",
              "      <td>...</td>\n",
              "      <td>...</td>\n",
              "      <td>...</td>\n",
              "    </tr>\n",
              "    <tr>\n",
              "      <th>195</th>\n",
              "      <td>38.2</td>\n",
              "      <td>3.7</td>\n",
              "      <td>13.8</td>\n",
              "      <td>7.6</td>\n",
              "    </tr>\n",
              "    <tr>\n",
              "      <th>196</th>\n",
              "      <td>94.2</td>\n",
              "      <td>4.9</td>\n",
              "      <td>8.1</td>\n",
              "      <td>9.7</td>\n",
              "    </tr>\n",
              "    <tr>\n",
              "      <th>197</th>\n",
              "      <td>177.0</td>\n",
              "      <td>9.3</td>\n",
              "      <td>6.4</td>\n",
              "      <td>12.8</td>\n",
              "    </tr>\n",
              "    <tr>\n",
              "      <th>198</th>\n",
              "      <td>283.6</td>\n",
              "      <td>42.0</td>\n",
              "      <td>66.2</td>\n",
              "      <td>25.5</td>\n",
              "    </tr>\n",
              "    <tr>\n",
              "      <th>199</th>\n",
              "      <td>232.1</td>\n",
              "      <td>8.6</td>\n",
              "      <td>8.7</td>\n",
              "      <td>13.4</td>\n",
              "    </tr>\n",
              "  </tbody>\n",
              "</table>\n",
              "<p>200 rows × 4 columns</p>\n",
              "</div>"
            ],
            "text/plain": [
              "        TV  radio  newspaper  sales\n",
              "0    230.1   37.8       69.2   22.1\n",
              "1     44.5   39.3       45.1   10.4\n",
              "2     17.2   45.9       69.3    9.3\n",
              "3    151.5   41.3       58.5   18.5\n",
              "4    180.8   10.8       58.4   12.9\n",
              "..     ...    ...        ...    ...\n",
              "195   38.2    3.7       13.8    7.6\n",
              "196   94.2    4.9        8.1    9.7\n",
              "197  177.0    9.3        6.4   12.8\n",
              "198  283.6   42.0       66.2   25.5\n",
              "199  232.1    8.6        8.7   13.4\n",
              "\n",
              "[200 rows x 4 columns]"
            ]
          },
          "metadata": {
            "tags": []
          },
          "execution_count": 5
        }
      ]
    },
    {
      "cell_type": "code",
      "metadata": {
        "id": "ghScKgD2Lxg7"
      },
      "source": [
        "TV = Adata.loc[:,'TV']\n",
        "Radio = Adata.loc[:,'radio']\n",
        "News = Adata.loc[:,'newspaper']\n",
        "Sales =Adata.loc[:,'sales']"
      ],
      "execution_count": null,
      "outputs": []
    },
    {
      "cell_type": "code",
      "metadata": {
        "id": "Mgw83idjL0yN",
        "colab": {
          "base_uri": "https://localhost:8080/",
          "height": 521
        },
        "outputId": "a0ecf20d-896b-4678-996b-78f85a04fefa"
      },
      "source": [
        "plt.rcParams[\"figure.figsize\"] = (16,8)\n",
        "plt.subplot(1,3,1)\n",
        "plt.scatter(Radio,Sales)\n",
        "plt.title('Radio Wise Sales',fontsize=20)\n",
        "plt.xlabel('Radio',fontsize=12)\n",
        "plt.ylabel('Ssales',fontsize=12)\n",
        "\n",
        "plt.subplot(1,3,2)\n",
        "plt.scatter(News,Sales,color=\"orange\")\n",
        "plt.title('News Paper Wise Sales',fontsize=20)\n",
        "plt.xlabel('News',fontsize=12)\n",
        "plt.ylabel('Sales',fontsize=12)\n",
        "\n",
        "\n",
        "plt.subplot(1,3,3)\n",
        "plt.scatter(TV,Sales,color=\"orange\")\n",
        "plt.title('TV Wise Sales',fontsize=20)\n",
        "plt.xlabel('TV',fontsize=12)\n",
        "plt.ylabel('Sales',fontsize=12)\n",
        "plt.show()\n"
      ],
      "execution_count": null,
      "outputs": [
        {
          "output_type": "display_data",
          "data": {
            "image/png": "[encoded data removed]",
            "text/plain": [
              "<Figure size 1152x576 with 3 Axes>"
            ]
          },
          "metadata": {
            "tags": [],
            "needs_background": "light"
          }
        }
      ]
    },
    {
      "cell_type": "code",
      "metadata": {
        "id": "P_fo35cRL4eo",
        "colab": {
          "base_uri": "https://localhost:8080/"
        },
        "outputId": "0e697115-6e42-4d4c-cb24-d9d0933cf6a6"
      },
      "source": [
        "print (\"TV\",Adata['TV'].values)\n",
        "print(\"Sales\",Adata['sales'].values)"
      ],
      "execution_count": null,
      "outputs": [
        {
          "output_type": "stream",
          "text": [
            "TV [230.1  44.5  17.2 151.5 180.8   8.7  57.5 120.2   8.6 199.8  66.1 214.7\n",
            "  23.8  97.5 204.1 195.4  67.8 281.4  69.2 147.3 218.4 237.4  13.2 228.3\n",
            "  62.3 262.9 142.9 240.1 248.8  70.6 292.9 112.9  97.2 265.6  95.7 290.7\n",
            " 266.9  74.7  43.1 228.  202.5 177.  293.6 206.9  25.1 175.1  89.7 239.9\n",
            " 227.2  66.9 199.8 100.4 216.4 182.6 262.7 198.9   7.3 136.2 210.8 210.7\n",
            "  53.5 261.3 239.3 102.7 131.1  69.   31.5 139.3 237.4 216.8 199.1 109.8\n",
            "  26.8 129.4 213.4  16.9  27.5 120.5   5.4 116.   76.4 239.8  75.3  68.4\n",
            " 213.5 193.2  76.3 110.7  88.3 109.8 134.3  28.6 217.7 250.9 107.4 163.3\n",
            " 197.6 184.9 289.7 135.2 222.4 296.4 280.2 187.9 238.2 137.9  25.   90.4\n",
            "  13.1 255.4 225.8 241.7 175.7 209.6  78.2  75.1 139.2  76.4 125.7  19.4\n",
            " 141.3  18.8 224.  123.1 229.5  87.2   7.8  80.2 220.3  59.6   0.7 265.2\n",
            "   8.4 219.8  36.9  48.3  25.6 273.7  43.  184.9  73.4 193.7 220.5 104.6\n",
            "  96.2 140.3 240.1 243.2  38.   44.7 280.7 121.  197.6 171.3 187.8   4.1\n",
            "  93.9 149.8  11.7 131.7 172.5  85.7 188.4 163.5 117.2 234.5  17.9 206.8\n",
            " 215.4 284.3  50.  164.5  19.6 168.4 222.4 276.9 248.4 170.2 276.7 165.6\n",
            " 156.6 218.5  56.2 287.6 253.8 205.  139.5 191.1 286.   18.7  39.5  75.5\n",
            "  17.2 166.8 149.7  38.2  94.2 177.  283.6 232.1]\n",
            "Sales [22.1 10.4  9.3 18.5 12.9  7.2 11.8 13.2  4.8 10.6  8.6 17.4  9.2  9.7\n",
            " 19.  22.4 12.5 24.4 11.3 14.6 18.  12.5  5.6 15.5  9.7 12.  15.  15.9\n",
            " 18.9 10.5 21.4 11.9  9.6 17.4  9.5 12.8 25.4 14.7 10.1 21.5 16.6 17.1\n",
            " 20.7 12.9  8.5 14.9 10.6 23.2 14.8  9.7 11.4 10.7 22.6 21.2 20.2 23.7\n",
            "  5.5 13.2 23.8 18.4  8.1 24.2 15.7 14.  18.   9.3  9.5 13.4 18.9 22.3\n",
            " 18.3 12.4  8.8 11.  17.   8.7  6.9 14.2  5.3 11.  11.8 12.3 11.3 13.6\n",
            " 21.7 15.2 12.  16.  12.9 16.7 11.2  7.3 19.4 22.2 11.5 16.9 11.7 15.5\n",
            " 25.4 17.2 11.7 23.8 14.8 14.7 20.7 19.2  7.2  8.7  5.3 19.8 13.4 21.8\n",
            " 14.1 15.9 14.6 12.6 12.2  9.4 15.9  6.6 15.5  7.  11.6 15.2 19.7 10.6\n",
            "  6.6  8.8 24.7  9.7  1.6 12.7  5.7 19.6 10.8 11.6  9.5 20.8  9.6 20.7\n",
            " 10.9 19.2 20.1 10.4 11.4 10.3 13.2 25.4 10.9 10.1 16.1 11.6 16.6 19.\n",
            " 15.6  3.2 15.3 10.1  7.3 12.9 14.4 13.3 14.9 18.  11.9 11.9  8.  12.2\n",
            " 17.1 15.   8.4 14.5  7.6 11.7 11.5 27.  20.2 11.7 11.8 12.6 10.5 12.2\n",
            "  8.7 26.2 17.6 22.6 10.3 17.3 15.9  6.7 10.8  9.9  5.9 19.6 17.3  7.6\n",
            "  9.7 12.8 25.5 13.4]\n"
          ],
          "name": "stdout"
        }
      ]
    },
    {
      "cell_type": "code",
      "metadata": {
        "id": "FMtRmGE0L7nr",
        "colab": {
          "base_uri": "https://localhost:8080/"
        },
        "outputId": "96a93914-0890-4359-e76f-b7bceadf4a57"
      },
      "source": [
        "X= Adata['TV'].values.reshape(-1,1)\n",
        "np.shape(X)\n",
        "y = Adata['sales'].values.reshape(-1,1)\n",
        "np.shape(y)"
      ],
      "execution_count": null,
      "outputs": [
        {
          "output_type": "execute_result",
          "data": {
            "text/plain": [
              "(200, 1)"
            ]
          },
          "metadata": {
            "tags": []
          },
          "execution_count": 13
        }
      ]
    },
    {
      "cell_type": "code",
      "metadata": {
        "id": "5Vo2bLT0MAex"
      },
      "source": [
        "X_train,X_test,y_train,y_test = train_test_split(X,y,test_size=0.2,random_state=0)"
      ],
      "execution_count": null,
      "outputs": []
    },
    {
      "cell_type": "code",
      "metadata": {
        "id": "tp-6kGg-MbCj",
        "colab": {
          "base_uri": "https://localhost:8080/"
        },
        "outputId": "97582df8-54d1-43dd-8fa7-b6c9aab8c8dd"
      },
      "source": [
        "#Implementing Linear Regression Algorithim\n",
        "regress = LinearRegression()\n",
        "regress.fit(X_train,y_train)\n",
        "#To Retrieve the Intercept\n",
        "print(regress.intercept_)\n",
        "#To Retrieving the slope\n",
        "print(regress.coef_)"
      ],
      "execution_count": null,
      "outputs": [
        {
          "output_type": "stream",
          "text": [
            "[7.29249377]\n",
            "[[0.04600779]]\n"
          ],
          "name": "stdout"
        }
      ]
    },
    {
      "cell_type": "code",
      "metadata": {
        "id": "dnxLLNGIMarB",
        "colab": {
          "base_uri": "https://localhost:8080/"
        },
        "outputId": "1a57326e-b5de-4efe-996a-e9d8ee700f89"
      },
      "source": [
        "y_pred = regress.predict(X_test)\n",
        "print(y_pred)"
      ],
      "execution_count": null,
      "outputs": [
        {
          "output_type": "stream",
          "text": [
            "[[10.47623281]\n",
            " [ 9.59288325]\n",
            " [11.45159795]\n",
            " [20.62095042]\n",
            " [15.12301956]\n",
            " [ 9.87813155]\n",
            " [ 7.69276154]\n",
            " [18.33896406]\n",
            " [ 8.38747917]\n",
            " [16.383633  ]\n",
            " [19.3143292 ]\n",
            " [11.30437303]\n",
            " [14.49731363]\n",
            " [15.93275666]\n",
            " [10.8074889 ]\n",
            " [12.82263008]\n",
            " [19.51216269]\n",
            " [ 7.32469923]\n",
            " [10.72927566]\n",
            " [17.11055607]\n",
            " [20.52433406]\n",
            " [13.74738665]\n",
            " [15.34845773]\n",
            " [13.35171966]\n",
            " [ 9.75391052]\n",
            " [12.95605267]\n",
            " [14.91138373]\n",
            " [16.72409064]\n",
            " [17.59823864]\n",
            " [ 8.44728929]\n",
            " [10.41182191]\n",
            " [16.44344313]\n",
            " [20.20688032]\n",
            " [18.41257652]\n",
            " [ 7.8997966 ]\n",
            " [ 8.15283944]\n",
            " [10.03455803]\n",
            " [15.61070213]\n",
            " [10.43942658]\n",
            " [ 8.44268851]]\n"
          ],
          "name": "stdout"
        }
      ]
    },
    {
      "cell_type": "code",
      "metadata": {
        "id": "TyyuyH7qNB8E",
        "colab": {
          "base_uri": "https://localhost:8080/",
          "height": 1000
        },
        "outputId": "3f127399-0153-4fc6-d705-93d175961b72"
      },
      "source": [
        "actual_predict = pd.DataFrame({'Actual':y_test.flatten(),'Predicted':y_pred.flatten()})\n",
        "actual_predict"
      ],
      "execution_count": null,
      "outputs": [
        {
          "output_type": "execute_result",
          "data": {
            "text/html": [
              "<div>\n",
              "<style scoped>\n",
              "    .dataframe tbody tr th:only-of-type {\n",
              "        vertical-align: middle;\n",
              "    }\n",
              "\n",
              "    .dataframe tbody tr th {\n",
              "        vertical-align: top;\n",
              "    }\n",
              "\n",
              "    .dataframe thead th {\n",
              "        text-align: right;\n",
              "    }\n",
              "</style>\n",
              "<table border=\"1\" class=\"dataframe\">\n",
              "  <thead>\n",
              "    <tr style=\"text-align: right;\">\n",
              "      <th></th>\n",
              "      <th>Actual</th>\n",
              "      <th>Predicted</th>\n",
              "    </tr>\n",
              "  </thead>\n",
              "  <tbody>\n",
              "    <tr>\n",
              "      <th>0</th>\n",
              "      <td>11.3</td>\n",
              "      <td>10.476233</td>\n",
              "    </tr>\n",
              "    <tr>\n",
              "      <th>1</th>\n",
              "      <td>8.4</td>\n",
              "      <td>9.592883</td>\n",
              "    </tr>\n",
              "    <tr>\n",
              "      <th>2</th>\n",
              "      <td>8.7</td>\n",
              "      <td>11.451598</td>\n",
              "    </tr>\n",
              "    <tr>\n",
              "      <th>3</th>\n",
              "      <td>25.4</td>\n",
              "      <td>20.620950</td>\n",
              "    </tr>\n",
              "    <tr>\n",
              "      <th>4</th>\n",
              "      <td>11.7</td>\n",
              "      <td>15.123020</td>\n",
              "    </tr>\n",
              "    <tr>\n",
              "      <th>5</th>\n",
              "      <td>8.7</td>\n",
              "      <td>9.878132</td>\n",
              "    </tr>\n",
              "    <tr>\n",
              "      <th>6</th>\n",
              "      <td>7.2</td>\n",
              "      <td>7.692762</td>\n",
              "    </tr>\n",
              "    <tr>\n",
              "      <th>7</th>\n",
              "      <td>13.2</td>\n",
              "      <td>18.338964</td>\n",
              "    </tr>\n",
              "    <tr>\n",
              "      <th>8</th>\n",
              "      <td>9.2</td>\n",
              "      <td>8.387479</td>\n",
              "    </tr>\n",
              "    <tr>\n",
              "      <th>9</th>\n",
              "      <td>16.6</td>\n",
              "      <td>16.383633</td>\n",
              "    </tr>\n",
              "    <tr>\n",
              "      <th>10</th>\n",
              "      <td>24.2</td>\n",
              "      <td>19.314329</td>\n",
              "    </tr>\n",
              "    <tr>\n",
              "      <th>11</th>\n",
              "      <td>10.6</td>\n",
              "      <td>11.304373</td>\n",
              "    </tr>\n",
              "    <tr>\n",
              "      <th>12</th>\n",
              "      <td>10.5</td>\n",
              "      <td>14.497314</td>\n",
              "    </tr>\n",
              "    <tr>\n",
              "      <th>13</th>\n",
              "      <td>15.6</td>\n",
              "      <td>15.932757</td>\n",
              "    </tr>\n",
              "    <tr>\n",
              "      <th>14</th>\n",
              "      <td>11.8</td>\n",
              "      <td>10.807489</td>\n",
              "    </tr>\n",
              "    <tr>\n",
              "      <th>15</th>\n",
              "      <td>13.2</td>\n",
              "      <td>12.822630</td>\n",
              "    </tr>\n",
              "    <tr>\n",
              "      <th>16</th>\n",
              "      <td>17.4</td>\n",
              "      <td>19.512163</td>\n",
              "    </tr>\n",
              "    <tr>\n",
              "      <th>17</th>\n",
              "      <td>1.6</td>\n",
              "      <td>7.324699</td>\n",
              "    </tr>\n",
              "    <tr>\n",
              "      <th>18</th>\n",
              "      <td>14.7</td>\n",
              "      <td>10.729276</td>\n",
              "    </tr>\n",
              "    <tr>\n",
              "      <th>19</th>\n",
              "      <td>17.0</td>\n",
              "      <td>17.110556</td>\n",
              "    </tr>\n",
              "    <tr>\n",
              "      <th>20</th>\n",
              "      <td>26.2</td>\n",
              "      <td>20.524334</td>\n",
              "    </tr>\n",
              "    <tr>\n",
              "      <th>21</th>\n",
              "      <td>10.3</td>\n",
              "      <td>13.747387</td>\n",
              "    </tr>\n",
              "    <tr>\n",
              "      <th>22</th>\n",
              "      <td>14.9</td>\n",
              "      <td>15.348458</td>\n",
              "    </tr>\n",
              "    <tr>\n",
              "      <th>23</th>\n",
              "      <td>12.9</td>\n",
              "      <td>13.351720</td>\n",
              "    </tr>\n",
              "    <tr>\n",
              "      <th>24</th>\n",
              "      <td>8.1</td>\n",
              "      <td>9.753911</td>\n",
              "    </tr>\n",
              "    <tr>\n",
              "      <th>25</th>\n",
              "      <td>15.2</td>\n",
              "      <td>12.956053</td>\n",
              "    </tr>\n",
              "    <tr>\n",
              "      <th>26</th>\n",
              "      <td>12.6</td>\n",
              "      <td>14.911384</td>\n",
              "    </tr>\n",
              "    <tr>\n",
              "      <th>27</th>\n",
              "      <td>22.6</td>\n",
              "      <td>16.724091</td>\n",
              "    </tr>\n",
              "    <tr>\n",
              "      <th>28</th>\n",
              "      <td>11.6</td>\n",
              "      <td>17.598239</td>\n",
              "    </tr>\n",
              "    <tr>\n",
              "      <th>29</th>\n",
              "      <td>8.5</td>\n",
              "      <td>8.447289</td>\n",
              "    </tr>\n",
              "    <tr>\n",
              "      <th>30</th>\n",
              "      <td>12.5</td>\n",
              "      <td>10.411822</td>\n",
              "    </tr>\n",
              "    <tr>\n",
              "      <th>31</th>\n",
              "      <td>23.7</td>\n",
              "      <td>16.443443</td>\n",
              "    </tr>\n",
              "    <tr>\n",
              "      <th>32</th>\n",
              "      <td>16.1</td>\n",
              "      <td>20.206880</td>\n",
              "    </tr>\n",
              "    <tr>\n",
              "      <th>33</th>\n",
              "      <td>21.8</td>\n",
              "      <td>18.412577</td>\n",
              "    </tr>\n",
              "    <tr>\n",
              "      <th>34</th>\n",
              "      <td>5.6</td>\n",
              "      <td>7.899797</td>\n",
              "    </tr>\n",
              "    <tr>\n",
              "      <th>35</th>\n",
              "      <td>6.7</td>\n",
              "      <td>8.152839</td>\n",
              "    </tr>\n",
              "    <tr>\n",
              "      <th>36</th>\n",
              "      <td>9.7</td>\n",
              "      <td>10.034558</td>\n",
              "    </tr>\n",
              "    <tr>\n",
              "      <th>37</th>\n",
              "      <td>12.9</td>\n",
              "      <td>15.610702</td>\n",
              "    </tr>\n",
              "    <tr>\n",
              "      <th>38</th>\n",
              "      <td>13.6</td>\n",
              "      <td>10.439427</td>\n",
              "    </tr>\n",
              "    <tr>\n",
              "      <th>39</th>\n",
              "      <td>7.2</td>\n",
              "      <td>8.442689</td>\n",
              "    </tr>\n",
              "  </tbody>\n",
              "</table>\n",
              "</div>"
            ],
            "text/plain": [
              "    Actual  Predicted\n",
              "0     11.3  10.476233\n",
              "1      8.4   9.592883\n",
              "2      8.7  11.451598\n",
              "3     25.4  20.620950\n",
              "4     11.7  15.123020\n",
              "5      8.7   9.878132\n",
              "6      7.2   7.692762\n",
              "7     13.2  18.338964\n",
              "8      9.2   8.387479\n",
              "9     16.6  16.383633\n",
              "10    24.2  19.314329\n",
              "11    10.6  11.304373\n",
              "12    10.5  14.497314\n",
              "13    15.6  15.932757\n",
              "14    11.8  10.807489\n",
              "15    13.2  12.822630\n",
              "16    17.4  19.512163\n",
              "17     1.6   7.324699\n",
              "18    14.7  10.729276\n",
              "19    17.0  17.110556\n",
              "20    26.2  20.524334\n",
              "21    10.3  13.747387\n",
              "22    14.9  15.348458\n",
              "23    12.9  13.351720\n",
              "24     8.1   9.753911\n",
              "25    15.2  12.956053\n",
              "26    12.6  14.911384\n",
              "27    22.6  16.724091\n",
              "28    11.6  17.598239\n",
              "29     8.5   8.447289\n",
              "30    12.5  10.411822\n",
              "31    23.7  16.443443\n",
              "32    16.1  20.206880\n",
              "33    21.8  18.412577\n",
              "34     5.6   7.899797\n",
              "35     6.7   8.152839\n",
              "36     9.7  10.034558\n",
              "37    12.9  15.610702\n",
              "38    13.6  10.439427\n",
              "39     7.2   8.442689"
            ]
          },
          "metadata": {
            "tags": []
          },
          "execution_count": 18
        }
      ]
    },
    {
      "cell_type": "code",
      "metadata": {
        "id": "q488vgg4NGxt",
        "colab": {
          "base_uri": "https://localhost:8080/",
          "height": 594
        },
        "outputId": "e946a76a-e3ba-4a49-9000-5824dc2e4a1d"
      },
      "source": [
        "ap=actual_predict.head(20)\n",
        "ap.plot(kind='bar',figsize=(16,10))\n",
        "plt.show()"
      ],
      "execution_count": null,
      "outputs": [
        {
          "output_type": "display_data",
          "data": {
            "image/png": "[encoded data removed]",
            "text/plain": [
              "<Figure size 1152x720 with 1 Axes>"
            ]
          },
          "metadata": {
            "tags": [],
            "needs_background": "light"
          }
        }
      ]
    },
    {
      "cell_type": "code",
      "metadata": {
        "id": "tm5tnWwiNKtu",
        "colab": {
          "base_uri": "https://localhost:8080/",
          "height": 497
        },
        "outputId": "d9b16019-e98a-4b72-a785-4e892490778f"
      },
      "source": [
        "plt.figure(figsize=(16,8))\n",
        "plt.scatter(X_test,y_test,c='blue')\n",
        "plt.plot(X_test,y_pred,c='red',linewidth=2)\n",
        "plt.xlabel(\"Amount Spend on TV Ads($)\")\n",
        "plt.ylabel(\"Sales($)\")\n",
        "plt.show()"
      ],
      "execution_count": null,
      "outputs": [
        {
          "output_type": "display_data",
          "data": {
            "image/png": "[encoded data removed]",
            "text/plain": [
              "<Figure size 1152x576 with 1 Axes>"
            ]
          },
          "metadata": {
            "tags": []
          }
        }
      ]
    },
    {
      "cell_type": "code",
      "metadata": {
        "id": "cDR7kUJSNnIC",
        "colab": {
          "base_uri": "https://localhost:8080/",
          "height": 70
        },
        "outputId": "c2dcf884-0761-4d3e-8707-5e1222d150b7"
      },
      "source": [
        "print('Mean Absolute Error:',metrics.mean_absolute_error(y_test,y_pred))\n",
        "print('Mean Squared Error:',metrics.mean_squared_error(y_test,y_pred))\n",
        "print('Root Mean Square Error:',np.sqrt(metrics.mean_squared_error(y_test,y_pred)))"
      ],
      "execution_count": null,
      "outputs": [
        {
          "output_type": "stream",
          "text": [
            "Mean Absolute Error: 2.505418178966003\n",
            "Mean Squared Error: 10.18618193453022\n",
            "Root Mean Square Error: 3.191579849311344\n"
          ],
          "name": "stdout"
        }
      ]
    },
    {
      "cell_type": "code",
      "metadata": {
        "id": "y9xoc1qIrm-r"
      },
      "source": [
        ""
      ],
      "execution_count": null,
      "outputs": []
    }
  ]
}